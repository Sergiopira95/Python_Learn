{
  "cells": [
    {
      "cell_type": "markdown",
      "metadata": {
        "colab_type": "text",
        "id": "view-in-github"
      },
      "source": [
        "<a href=\"https://colab.research.google.com/github/Sergiopira95/Python_Learn/blob/main/101_numpy_exercises.ipynb\" target=\"_parent\"><img src=\"https://colab.research.google.com/assets/colab-badge.svg\" alt=\"Open In Colab\"/></a>"
      ]
    },
    {
      "cell_type": "code",
      "execution_count": 2,
      "metadata": {
        "id": "IJPdypBbJVG_"
      },
      "outputs": [],
      "source": [
        "import numpy as np"
      ]
    },
    {
      "cell_type": "code",
      "execution_count": null,
      "metadata": {
        "colab": {
          "base_uri": "https://localhost:8080/"
        },
        "id": "8mTreJFZJo9H",
        "outputId": "919d66c7-15d7-451f-9e22-99275fc300d3"
      },
      "outputs": [
        {
          "name": "stdout",
          "output_type": "stream",
          "text": [
            "1.26.4\n"
          ]
        }
      ],
      "source": [
        "print(np.__version__)"
      ]
    },
    {
      "cell_type": "code",
      "execution_count": null,
      "metadata": {
        "colab": {
          "base_uri": "https://localhost:8080/"
        },
        "id": "JfQMG8wmJ9ue",
        "outputId": "36c98763-5816-4404-9613-8a43b84198b6"
      },
      "outputs": [
        {
          "data": {
            "text/plain": [
              "array([0, 1, 2, 3, 4, 5, 6, 7, 8, 9])"
            ]
          },
          "execution_count": 5,
          "metadata": {},
          "output_type": "execute_result"
        }
      ],
      "source": [
        "arr = np.arange(0,10)\n",
        "arr"
      ]
    },
    {
      "cell_type": "code",
      "execution_count": null,
      "metadata": {
        "colab": {
          "base_uri": "https://localhost:8080/"
        },
        "id": "gawxasfILukW",
        "outputId": "dbbe0c1d-d9b5-4b01-e06f-5ee39c207a65"
      },
      "outputs": [
        {
          "data": {
            "text/plain": [
              "array([[ True,  True,  True],\n",
              "       [ True,  True,  True],\n",
              "       [ True,  True,  True]])"
            ]
          },
          "execution_count": 8,
          "metadata": {},
          "output_type": "execute_result"
        }
      ],
      "source": [
        "true_array = np.full(shape=(3,3), fill_value=True, dtype=bool)\n",
        "true_array"
      ]
    },
    {
      "cell_type": "code",
      "execution_count": null,
      "metadata": {
        "id": "a0rYPIb9egi-"
      },
      "outputs": [],
      "source": [
        "arr = np.array([0, 1, 2, 3, 4, 5, 6, 7, 8, 9])"
      ]
    },
    {
      "cell_type": "code",
      "execution_count": null,
      "metadata": {
        "colab": {
          "base_uri": "https://localhost:8080/"
        },
        "id": "eHisd7BhejE5",
        "outputId": "3a726785-8373-43cd-8e53-43bf4f1c1619"
      },
      "outputs": [
        {
          "data": {
            "text/plain": [
              "array([1, 3, 5, 7, 9])"
            ]
          },
          "execution_count": 13,
          "metadata": {},
          "output_type": "execute_result"
        }
      ],
      "source": [
        "arr[arr % 2 == 1]"
      ]
    },
    {
      "cell_type": "code",
      "execution_count": null,
      "metadata": {
        "colab": {
          "base_uri": "https://localhost:8080/"
        },
        "id": "TnrOXO6EgF8v",
        "outputId": "03c247f5-1233-40f8-e41f-24cf9ad57c44"
      },
      "outputs": [
        {
          "data": {
            "text/plain": [
              "array([ 0, -1,  2, -1,  4, -1,  6, -1,  8, -1])"
            ]
          },
          "execution_count": 15,
          "metadata": {},
          "output_type": "execute_result"
        }
      ],
      "source": [
        "arr[arr % 2 == 1] = -1\n",
        "arr"
      ]
    },
    {
      "cell_type": "code",
      "execution_count": null,
      "metadata": {
        "id": "FNAhz4VEiTGj"
      },
      "outputs": [],
      "source": [
        "arr = np.array([0, 1, 2, 3, 4, 5, 6, 7, 8, 9])"
      ]
    },
    {
      "cell_type": "code",
      "execution_count": null,
      "metadata": {
        "colab": {
          "base_uri": "https://localhost:8080/"
        },
        "id": "kU2EcrtQiU5U",
        "outputId": "7add592a-869f-466a-8159-cd153d8b97d9"
      },
      "outputs": [
        {
          "name": "stdout",
          "output_type": "stream",
          "text": [
            "[0 1 2 3 4 5 6 7 8 9]\n"
          ]
        },
        {
          "data": {
            "text/plain": [
              "array([ 0, -1,  2, -1,  4, -1,  6, -1,  8, -1])"
            ]
          },
          "execution_count": 19,
          "metadata": {},
          "output_type": "execute_result"
        }
      ],
      "source": [
        "out = arr.copy()\n",
        "out[arr % 2 == 1] = -1\n",
        "print(arr)\n",
        "out"
      ]
    },
    {
      "cell_type": "code",
      "execution_count": null,
      "metadata": {
        "colab": {
          "base_uri": "https://localhost:8080/"
        },
        "id": "_BF1KC2HTTGW",
        "outputId": "c5fe5650-0c13-4d6a-d720-46148bac5d41"
      },
      "outputs": [
        {
          "name": "stdout",
          "output_type": "stream",
          "text": [
            "[0 1 2 3 4 5 6 7 8 9]\n"
          ]
        },
        {
          "data": {
            "text/plain": [
              "array([ 0, -1,  2, -1,  4, -1,  6, -1,  8, -1])"
            ]
          },
          "execution_count": 3,
          "metadata": {},
          "output_type": "execute_result"
        }
      ],
      "source": [
        "#6. How to replace items that satisfy a condition without affecting the original array?\n",
        "\n",
        "arr = np.arange(10)\n",
        "out = np.where(arr % 2 == 1, -1, arr)\n",
        "print(arr)\n",
        "out"
      ]
    },
    {
      "cell_type": "code",
      "execution_count": null,
      "metadata": {
        "colab": {
          "base_uri": "https://localhost:8080/"
        },
        "id": "Ll-RwJMvU3fd",
        "outputId": "f8cf89df-b3e7-4476-cae3-928675e6451f"
      },
      "outputs": [
        {
          "name": "stdout",
          "output_type": "stream",
          "text": [
            "[0 1 2 3 4 5 6 7 8]\n",
            "(9,)\n",
            "[[0 1 2]\n",
            " [3 4 5]\n",
            " [6 7 8]]\n",
            "(3, 3)\n"
          ]
        },
        {
          "data": {
            "text/plain": [
              "array([[0, 1, 2, 3, 4],\n",
              "       [5, 6, 7, 8, 9]])"
            ]
          },
          "execution_count": 7,
          "metadata": {},
          "output_type": "execute_result"
        }
      ],
      "source": [
        "#7. How to reshape an array?\n",
        "arr = np.arange(0,9)\n",
        "print(arr)\n",
        "print(np.shape(arr))\n",
        "reshaped_arr = np.reshape(arr, (3,3))\n",
        "print(reshaped_arr)\n",
        "print(np.shape(reshaped_arr))\n",
        "\n",
        "#Other Solution\n",
        "arr = np.arange(10)\n",
        "arr.reshape(2, -1)  # Setting to -1 automatically decides the number of cols"
      ]
    },
    {
      "cell_type": "code",
      "execution_count": null,
      "metadata": {
        "colab": {
          "base_uri": "https://localhost:8080/"
        },
        "id": "OyqStJPYWDY2",
        "outputId": "4eadf0b8-df41-487b-ed45-da8b16609ef4"
      },
      "outputs": [
        {
          "data": {
            "text/plain": [
              "array([[0, 1, 2, 3, 4],\n",
              "       [5, 6, 7, 8, 9],\n",
              "       [1, 1, 1, 1, 1],\n",
              "       [1, 1, 1, 1, 1]])"
            ]
          },
          "execution_count": 10,
          "metadata": {},
          "output_type": "execute_result"
        }
      ],
      "source": [
        "#8. How to stack two arrays vertically?\n",
        "a = np.arange(10).reshape(2,-1)\n",
        "b = np.repeat(1, 10).reshape(2,-1)\n",
        "# Method 1:\n",
        "np.concatenate([a, b], axis=0)\n",
        "\n",
        "# Method 2:\n",
        "np.vstack([a, b])\n",
        "\n",
        "# Method 3:\n",
        "np.r_[a, b]"
      ]
    },
    {
      "cell_type": "code",
      "execution_count": null,
      "metadata": {
        "colab": {
          "base_uri": "https://localhost:8080/"
        },
        "id": "6JoQgeLJXuJo",
        "outputId": "bff61432-23a7-4448-8f8b-ee43c9031a97"
      },
      "outputs": [
        {
          "data": {
            "text/plain": [
              "array([[0, 1, 2, 3, 4, 1, 1, 1, 1, 1],\n",
              "       [5, 6, 7, 8, 9, 1, 1, 1, 1, 1]])"
            ]
          },
          "execution_count": 12,
          "metadata": {},
          "output_type": "execute_result"
        }
      ],
      "source": [
        "#9. How to stack two arrays horizontally?\n",
        "a = np.arange(10).reshape(2,-1)\n",
        "\n",
        "b = np.repeat(1, 10).reshape(2,-1)\n",
        "\n",
        "# Method 1:\n",
        "np.concatenate([a, b], axis=1)\n",
        "\n",
        "# Method 2:\n",
        "np.hstack([a, b])\n",
        "\n",
        "# Method 3:\n",
        "np.c_[a, b]"
      ]
    },
    {
      "cell_type": "markdown",
      "metadata": {
        "id": "W_UGXuxdYUzo"
      },
      "source": [
        "10. How to generate custom sequences in numpy without hardcoding?\n",
        "Difficulty Level: L2\n",
        "\n",
        "Q. Create the following pattern without hardcoding. Use only numpy functions and the below input array a.\n",
        "\n",
        "Desired Output:\n",
        "\n",
        "array([1, 1, 1, 2, 2, 2, 3, 3, 3, 1, 2, 3, 1, 2, 3, 1, 2, 3])"
      ]
    },
    {
      "cell_type": "code",
      "execution_count": null,
      "metadata": {
        "colab": {
          "base_uri": "https://localhost:8080/"
        },
        "id": "LErOcMMaYLCu",
        "outputId": "6e258dae-b93d-4ee4-f137-59e932127214"
      },
      "outputs": [
        {
          "data": {
            "text/plain": [
              "array([1, 1, 1, 2, 2, 2, 3, 3, 3, 1, 2, 3, 1, 2, 3, 1, 2, 3])"
            ]
          },
          "execution_count": 15,
          "metadata": {},
          "output_type": "execute_result"
        }
      ],
      "source": [
        "# My solution\n",
        "\n",
        "a = np.array([1,2,3])\n",
        "a = np.repeat(a, 3)\n",
        "for _ in np.arange(3):\n",
        "  a = np.hstack([a, [1,2,3]])\n",
        "a\n"
      ]
    },
    {
      "cell_type": "code",
      "execution_count": null,
      "metadata": {
        "colab": {
          "base_uri": "https://localhost:8080/"
        },
        "id": "rcCsqBHuZ7Pj",
        "outputId": "cbe4d425-c37c-40b1-f056-42842b9e9106"
      },
      "outputs": [
        {
          "data": {
            "text/plain": [
              "array([1, 1, 1, 2, 2, 2, 3, 3, 3, 1, 2, 3, 1, 2, 3, 1, 2, 3])"
            ]
          },
          "execution_count": 17,
          "metadata": {},
          "output_type": "execute_result"
        }
      ],
      "source": [
        "# Alternative solution\n",
        "a = np.array([1,2,3])\n",
        "np.r_[np.repeat(a, 3), np.tile(a, 3)]"
      ]
    },
    {
      "cell_type": "markdown",
      "metadata": {
        "id": "8VHhiOXUbaEB"
      },
      "source": [
        "#11. How to get the common items between two python numpy arrays?\n",
        "Difficulty Level: L2\n",
        "\n",
        "Q. Get the common items between a and b\n",
        "\n",
        "##Input:\n",
        "\n",
        "a = np.array([1,2,3,2,3,4,3,4,5,6])\n",
        "b = np.array([7,2,10,2,7,4,9,4,9,8])\n",
        "\n",
        "##Desired Output:\n",
        "\n",
        "array([2, 4])"
      ]
    },
    {
      "cell_type": "code",
      "execution_count": null,
      "metadata": {
        "colab": {
          "base_uri": "https://localhost:8080/"
        },
        "id": "8Kda5cZxbkjX",
        "outputId": "8918f7f4-68b2-466a-cea3-7da279c1e4ce"
      },
      "outputs": [
        {
          "data": {
            "text/plain": [
              "array([2, 4])"
            ]
          },
          "execution_count": 20,
          "metadata": {},
          "output_type": "execute_result"
        }
      ],
      "source": [
        "a = np.array([1,2,3,2,3,4,3,4,5,6])\n",
        "b = np.array([7,2,10,2,7,4,9,4,9,8])\n",
        "\n",
        "np.intersect1d(a, b)"
      ]
    },
    {
      "cell_type": "markdown",
      "metadata": {
        "id": "uU6sqwFGfAU8"
      },
      "source": [
        "#12. How to remove from one array those items that exist in another?\n",
        "Difficulty Level: L2\n",
        "\n",
        "Q. From array a remove all items present in array b\n",
        "\n",
        "##Input:\n",
        "\n",
        "a = np.array([1,2,3,4,5])\n",
        "b = np.array([5,6,7,8,9])\n",
        "\n",
        "##Desired Output:\n",
        "\n",
        "array([1,2,3,4])"
      ]
    },
    {
      "cell_type": "code",
      "execution_count": null,
      "metadata": {
        "colab": {
          "base_uri": "https://localhost:8080/"
        },
        "id": "0tDV3sHXfGE8",
        "outputId": "67485477-d29c-4968-855d-2f4ce0bc09d2"
      },
      "outputs": [
        {
          "data": {
            "text/plain": [
              "array([1, 2, 3, 4])"
            ]
          },
          "execution_count": 24,
          "metadata": {},
          "output_type": "execute_result"
        }
      ],
      "source": [
        "a = np.array([1,2,3,4,5])\n",
        "b = np.array([5,6,7,8,9])\n",
        "\n",
        "# From 'a' remove all of 'b'\n",
        "\n",
        "np.setdiff1d(a,b)"
      ]
    },
    {
      "cell_type": "markdown",
      "metadata": {
        "id": "Ba_wFc4agCKa"
      },
      "source": [
        "#13. How to get the positions where elements of two arrays match?\n",
        "Difficulty Level: L2\n",
        "\n",
        "Q. Get the positions where elements of a and b match\n",
        "\n",
        "##Input:\n",
        "\n",
        "a = np.array([1,2,3,2,3,4,3,4,5,6])\n",
        "b = np.array([7,2,10,2,7,4,9,4,9,8])\n",
        "\n",
        "##Desired Output:\n",
        "\n",
        "array([1, 3, 5, 7])"
      ]
    },
    {
      "cell_type": "code",
      "execution_count": null,
      "metadata": {
        "colab": {
          "base_uri": "https://localhost:8080/"
        },
        "id": "At83TK_SgLua",
        "outputId": "8cfb68af-ee61-4445-f18d-11b6388f50d3"
      },
      "outputs": [
        {
          "data": {
            "text/plain": [
              "(array([1, 3, 5, 7]),)"
            ]
          },
          "execution_count": 26,
          "metadata": {},
          "output_type": "execute_result"
        }
      ],
      "source": [
        "a = np.array([1,2,3,2,3,4,3,4,5,6])\n",
        "b = np.array([7,2,10,2,7,4,9,4,9,8])\n",
        "\n",
        "#If only the condition is provided,\n",
        "#numpy.where() returns the indices of elements that meet the condition.\n",
        "\n",
        "np.where(a == b)"
      ]
    },
    {
      "cell_type": "markdown",
      "metadata": {
        "id": "3Rxs3zg3lDL8"
      },
      "source": [
        "#14. How to extract all numbers between a given range from a numpy array?\n",
        "Difficulty Level: L2\n",
        "\n",
        "Q. Get all items between 5 and 10 from a.\n",
        "\n",
        "##Input:\n",
        "\n",
        "a = np.array([2, 6, 1, 9, 10, 3, 27])\n",
        "\n",
        "##Desired Output:\n",
        "\n",
        "(array([6, 9, 10]),)"
      ]
    },
    {
      "cell_type": "code",
      "execution_count": null,
      "metadata": {
        "colab": {
          "base_uri": "https://localhost:8080/"
        },
        "id": "0UEkD1aLlKLU",
        "outputId": "3476025e-465d-4477-f418-3fb52c45e081"
      },
      "outputs": [
        {
          "data": {
            "text/plain": [
              "array([ 6,  9, 10])"
            ]
          },
          "execution_count": 36,
          "metadata": {},
          "output_type": "execute_result"
        }
      ],
      "source": [
        "a = np.array([2, 6, 1, 9, 10, 3, 27])\n",
        "\n",
        "# Method 1\n",
        "index = np.where((a >= 5) & (a <= 10))\n",
        "a[index]\n",
        "\n",
        "# Method 2:\n",
        "index = np.where(np.logical_and(a>=5, a<=10))\n",
        "a[index]\n",
        "\n",
        "\n",
        "# Method 3: (thanks loganzk!)\n",
        "a[(a >= 5) & (a <= 10)]"
      ]
    },
    {
      "cell_type": "markdown",
      "metadata": {
        "id": "fRVxMiGsiwgj"
      },
      "source": [
        "#15. How to make a python function that handles scalars to work on numpy arrays?\n",
        "Difficulty Level: L2\n",
        "\n",
        "Q. Convert the function maxx that works on two scalars, to work on two arrays.\n",
        "\n",
        "##Input:\n",
        "\n",
        "def maxx(x, y):\n",
        "    \"\"\"Get the maximum of two items\"\"\"\n",
        "    if x >= y:\n",
        "        return x\n",
        "    else:\n",
        "        return y\n",
        "\n",
        "maxx(1, 5)\n",
        "#> 5\n",
        "##Desired Output:\n",
        "\n",
        "a = np.array([5, 7, 9, 8, 6, 4, 5])\n",
        "b = np.array([6, 3, 4, 8, 9, 7, 1])\n",
        "pair_max(a, b)\n",
        "#> array([ 6.,  7.,  9.,  8.,  9.,  7.,  5.])"
      ]
    },
    {
      "cell_type": "code",
      "execution_count": null,
      "metadata": {
        "colab": {
          "base_uri": "https://localhost:8080/"
        },
        "id": "5QigGjY0jKdm",
        "outputId": "4ec5ca47-4be9-4d5a-b50d-febb6bb0758c"
      },
      "outputs": [
        {
          "name": "stdout",
          "output_type": "stream",
          "text": [
            "Array dimensions should be the  same\n"
          ]
        }
      ],
      "source": [
        "# My solution\n",
        "def maxx(x, y):\n",
        "  \"\"\"Get the maximum of two items\"\"\"\n",
        "  if x >= y:\n",
        "    return x\n",
        "  else:\n",
        "    return y\n",
        "\n",
        "a = np.array([5, 7, 9, 8, 6, 4, 5])\n",
        "b = np.array([6, 3, 4, 8, 9, 7, 1,5])\n",
        "\n",
        "if a.shape != b.shape:\n",
        "    print('Array dimensions should be the  same')\n",
        "else:\n",
        "    pair_max = np.vectorize(maxx, otypes=[int])\n",
        "    pair_max(a, b)\n"
      ]
    },
    {
      "cell_type": "markdown",
      "metadata": {
        "id": "aB8gaZZp6bHK"
      },
      "source": [
        "##16. How to swap two columns in a 2d numpy array?\n",
        "Difficulty Level: L2\n",
        "\n",
        "Q. Swap columns 1 and 2 in the array arr.\n",
        "\n",
        "arr = np.arange(9).reshape(3,3)\n",
        "\n",
        "arr"
      ]
    },
    {
      "cell_type": "code",
      "execution_count": 6,
      "metadata": {
        "colab": {
          "base_uri": "https://localhost:8080/"
        },
        "id": "vGdw4DDz6qd5",
        "outputId": "17868bc4-e6c5-4c00-e27e-0a22742f7aad"
      },
      "outputs": [
        {
          "data": {
            "text/plain": [
              "array([[0, 1, 2],\n",
              "       [3, 4, 5],\n",
              "       [6, 7, 8]])"
            ]
          },
          "execution_count": 6,
          "metadata": {},
          "output_type": "execute_result"
        }
      ],
      "source": [
        "arr = np.arange(9).reshape(3,3)\n",
        "arr\n"
      ]
    },
    {
      "cell_type": "code",
      "execution_count": 7,
      "metadata": {
        "colab": {
          "base_uri": "https://localhost:8080/"
        },
        "id": "VTlZCyf_7QMR",
        "outputId": "647838fd-3d14-4f56-9a27-0a2dea912376"
      },
      "outputs": [
        {
          "data": {
            "text/plain": [
              "array([[1, 0, 2],\n",
              "       [4, 3, 5],\n",
              "       [7, 6, 8]])"
            ]
          },
          "execution_count": 7,
          "metadata": {},
          "output_type": "execute_result"
        }
      ],
      "source": [
        "# My solution\n",
        "arr1 = arr.copy()\n",
        "arr[:,0] = arr[:,1]\n",
        "arr[:,1] = arr1[:,0]\n",
        "arr"
      ]
    },
    {
      "cell_type": "code",
      "execution_count": 8,
      "metadata": {
        "colab": {
          "base_uri": "https://localhost:8080/"
        },
        "id": "zbjxit-y_2bN",
        "outputId": "09b22b86-b8b0-4101-9cfa-7124be5babc3"
      },
      "outputs": [
        {
          "data": {
            "text/plain": [
              "array([[0, 1, 2],\n",
              "       [3, 4, 5],\n",
              "       [6, 7, 8]])"
            ]
          },
          "execution_count": 8,
          "metadata": {},
          "output_type": "execute_result"
        }
      ],
      "source": [
        "# Alternative solution\n",
        "arr[:, [1,0,2]]"
      ]
    },
    {
      "cell_type": "code",
      "execution_count": 9,
      "metadata": {
        "colab": {
          "base_uri": "https://localhost:8080/"
        },
        "id": "gAB0ZzmuAfil",
        "outputId": "452378eb-b97a-4e0c-d73a-cba06782e22f"
      },
      "outputs": [
        {
          "data": {
            "text/plain": [
              "array([[1, 0, 2],\n",
              "       [4, 3, 5],\n",
              "       [7, 6, 8]])"
            ]
          },
          "execution_count": 9,
          "metadata": {},
          "output_type": "execute_result"
        }
      ],
      "source": [
        "# Another solution suplied by Gemini\n",
        "arr = np.arange(9).reshape(3,3)\n",
        "arr[:,[1, 0]] = arr[:,[0, 1]] # Swaps the first and second column of the entire array\n",
        "arr"
      ]
    },
    {
      "cell_type": "markdown",
      "metadata": {},
      "source": [
        "## 17. How to swap two rows in a 2d numpy array?\n",
        "Difficulty Level: L2\n",
        "\n",
        "Q. Swap rows 1 and 2 in the array arr:\n",
        "\n",
        "arr = np.arange(9).reshape(3,3)\n",
        "arr"
      ]
    },
    {
      "cell_type": "code",
      "execution_count": 4,
      "metadata": {},
      "outputs": [
        {
          "data": {
            "text/plain": [
              "array([[3, 4, 5],\n",
              "       [0, 1, 2],\n",
              "       [6, 7, 8]])"
            ]
          },
          "execution_count": 4,
          "metadata": {},
          "output_type": "execute_result"
        }
      ],
      "source": [
        "# My solution\n",
        "arr = np.arange(9).reshape(3,3)\n",
        "arr[[0,1],:] = arr[[1,0],:]\n",
        "arr"
      ]
    }
  ],
  "metadata": {
    "colab": {
      "authorship_tag": "ABX9TyOapYjAIlYvZvjH4k3ZeTfk",
      "include_colab_link": true,
      "provenance": []
    },
    "kernelspec": {
      "display_name": "Python 3",
      "name": "python3"
    },
    "language_info": {
      "codemirror_mode": {
        "name": "ipython",
        "version": 3
      },
      "file_extension": ".py",
      "mimetype": "text/x-python",
      "name": "python",
      "nbconvert_exporter": "python",
      "pygments_lexer": "ipython3",
      "version": "3.12.6"
    }
  },
  "nbformat": 4,
  "nbformat_minor": 0
}
