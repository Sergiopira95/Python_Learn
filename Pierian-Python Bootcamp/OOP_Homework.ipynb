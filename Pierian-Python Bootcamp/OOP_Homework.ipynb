{
 "cells": [
  {
   "cell_type": "markdown",
   "id": "627a7a78-a0a8-4688-86c4-d98c64aed0d6",
   "metadata": {},
   "source": [
    "## Problem 1\n",
    "Fill in the Line class methods to accept coordinates as a pair of tuples and return the slope and distance of the line."
   ]
  },
  {
   "cell_type": "code",
   "execution_count": 26,
   "id": "9bb10d98-167a-4cfc-9f43-f3000a964d60",
   "metadata": {},
   "outputs": [],
   "source": [
    "class Line:\n",
    "\n",
    "    def __init__(self, coordinate1, coordinate2):\n",
    "        self.coordinate1 = coordinate1\n",
    "        self.coordinate2 = coordinate2\n",
    "    def distance(self):\n",
    "        return ((self.coordinate2[0]-self.coordinate1[0])**2 + (self.coordinate2[1]-self.coordinate1[1])**2)**0.5\n",
    "    def slope(self):\n",
    "        return  (self.coordinate2[1]-self.coordinate1[1])/(self.coordinate2[0]-self.coordinate1[0])"
   ]
  },
  {
   "cell_type": "code",
   "execution_count": 6,
   "id": "e446d829-21e4-4dc3-86c5-8cda1820cd0f",
   "metadata": {},
   "outputs": [],
   "source": [
    "l1 = Line((1,2), (3,4))"
   ]
  },
  {
   "cell_type": "code",
   "execution_count": 11,
   "id": "12d64249-c69d-4dfc-8cd6-e74c1ac06fcb",
   "metadata": {},
   "outputs": [
    {
     "data": {
      "text/plain": [
       "2.8284271247461903"
      ]
     },
     "execution_count": 11,
     "metadata": {},
     "output_type": "execute_result"
    }
   ],
   "source": [
    "l1.distance()"
   ]
  },
  {
   "cell_type": "code",
   "execution_count": 13,
   "id": "d837a7e1-0495-497c-8126-332be579dc8b",
   "metadata": {},
   "outputs": [
    {
     "data": {
      "text/plain": [
       "1.0"
      ]
     },
     "execution_count": 13,
     "metadata": {},
     "output_type": "execute_result"
    }
   ],
   "source": [
    "l1.slope()"
   ]
  },
  {
   "cell_type": "code",
   "execution_count": 27,
   "id": "ff0ebf32-c08f-4807-93b8-3d16496e0cca",
   "metadata": {},
   "outputs": [],
   "source": [
    "coordinate1 = (3,2)\n",
    "coordinate2 = (8,10)\n",
    "\n",
    "li = Line(coordinate1,coordinate2)"
   ]
  },
  {
   "cell_type": "code",
   "execution_count": 28,
   "id": "314d70fc-5aa4-4ec2-8ed5-5551159c5afc",
   "metadata": {},
   "outputs": [
    {
     "data": {
      "text/plain": [
       "9.433981132056603"
      ]
     },
     "execution_count": 28,
     "metadata": {},
     "output_type": "execute_result"
    }
   ],
   "source": [
    "li.distance()"
   ]
  },
  {
   "cell_type": "code",
   "execution_count": 29,
   "id": "afa0c325-4da1-47a6-a9ce-b912fd59c0d8",
   "metadata": {},
   "outputs": [
    {
     "data": {
      "text/plain": [
       "1.6"
      ]
     },
     "execution_count": 29,
     "metadata": {},
     "output_type": "execute_result"
    }
   ],
   "source": [
    "li.slope()"
   ]
  },
  {
   "cell_type": "markdown",
   "id": "0651ed57-1e6a-4f01-857e-e54d3b98c441",
   "metadata": {},
   "source": [
    "## Problem 2\n",
    "Fill in the class Cilynder."
   ]
  },
  {
   "cell_type": "code",
   "execution_count": 33,
   "id": "cee37973-283f-430a-ab37-dc8f68322711",
   "metadata": {},
   "outputs": [],
   "source": [
    "class Cylinder:\n",
    "    def __init__(self, height=1, radius=1):\n",
    "        self.height = height\n",
    "        self.radius = radius\n",
    "    def volume(self):\n",
    "        return 3.1416*(self.radius**2)*self.height\n",
    "    def surface_area(self):\n",
    "        return 2*3.1416*self.radius*(self.height+self.radius)"
   ]
  },
  {
   "cell_type": "code",
   "execution_count": 34,
   "id": "4a1b0ff7-b10f-4f5f-8c53-7f932492d86e",
   "metadata": {},
   "outputs": [],
   "source": [
    "# EXAMPLE OUTPUT\n",
    "c = Cylinder(2,3)"
   ]
  },
  {
   "cell_type": "code",
   "execution_count": 35,
   "id": "eafb2c81-5f6c-4e6b-8240-ae1ad657fc39",
   "metadata": {},
   "outputs": [
    {
     "data": {
      "text/plain": [
       "56.5488"
      ]
     },
     "execution_count": 35,
     "metadata": {},
     "output_type": "execute_result"
    }
   ],
   "source": [
    "c.volume()"
   ]
  },
  {
   "cell_type": "code",
   "execution_count": 36,
   "id": "c8af7314-e904-4e38-9da1-9691cabc8d5c",
   "metadata": {},
   "outputs": [
    {
     "data": {
      "text/plain": [
       "94.24799999999999"
      ]
     },
     "execution_count": 36,
     "metadata": {},
     "output_type": "execute_result"
    }
   ],
   "source": [
    "c.surface_area()"
   ]
  }
 ],
 "metadata": {
  "kernelspec": {
   "display_name": "Python 3 (ipykernel)",
   "language": "python",
   "name": "python3"
  },
  "language_info": {
   "codemirror_mode": {
    "name": "ipython",
    "version": 3
   },
   "file_extension": ".py",
   "mimetype": "text/x-python",
   "name": "python",
   "nbconvert_exporter": "python",
   "pygments_lexer": "ipython3",
   "version": "3.12.7"
  }
 },
 "nbformat": 4,
 "nbformat_minor": 5
}
