{
 "cells": [
  {
   "cell_type": "markdown",
   "id": "7aeee97b-6215-443c-b653-f711dbfde777",
   "metadata": {},
   "source": [
    "# Errors and Exceptions Homework\n",
    "## Problem 1\n",
    "Handle the exception thrown by the code below by using try and except blocks."
   ]
  },
  {
   "cell_type": "code",
   "execution_count": 4,
   "id": "d9711759-f760-423e-946b-af31ab3cc336",
   "metadata": {},
   "outputs": [
    {
     "name": "stdout",
     "output_type": "stream",
     "text": [
      "An unsupported operand type(s) for ** or pow(): 'str' and 'int' has occured. Check variables types.\n"
     ]
    }
   ],
   "source": [
    "try:\n",
    "    for i in ['a','b','c']:\n",
    "        print(i**2)\n",
    "except TypeError as e:\n",
    "    print(f\"An {e} has occured. Check variables types.\")"
   ]
  },
  {
   "cell_type": "markdown",
   "id": "125b209a-db36-4c34-84f4-538aad88e636",
   "metadata": {},
   "source": [
    "## Problem 2\n",
    "Handle the exception thrown by the code below by using try and except blocks. \n",
    "Then use a finally block to print 'All Done."
   ]
  },
  {
   "cell_type": "code",
   "execution_count": 6,
   "id": "6ce36071-880c-4833-ae3d-d24551fb0d8b",
   "metadata": {},
   "outputs": [
    {
     "name": "stdout",
     "output_type": "stream",
     "text": [
      "A division by zero occurred. This is forbiden check opernads\n",
      "Remember Maths forbidens.\n"
     ]
    }
   ],
   "source": [
    "x = 5\n",
    "y = 0\n",
    "try:\n",
    "    z = x/y\n",
    "except ZeroDivisionError as e:\n",
    "    print(f\"A {e} occurred. This is forbiden check opernads\")\n",
    "finally:\n",
    "    print(\"Remember Maths forbidens.\")"
   ]
  },
  {
   "cell_type": "markdown",
   "id": "95b56027-8b2e-49f2-8e4c-034961a554ee",
   "metadata": {},
   "source": [
    "## Problem 3\n",
    "Write a function that asks for an integer and prints the square of it. \n",
    "Use a while loop with a try, except, else block to account for incorrect inputs."
   ]
  },
  {
   "cell_type": "code",
   "execution_count": 8,
   "id": "0502087d-5d63-4b44-9042-d88245f5c267",
   "metadata": {},
   "outputs": [],
   "source": [
    "def ask():\n",
    "    i = int(input(\"Please enter an integer\"))\n",
    "    print(i**2)\n",
    "    "
   ]
  },
  {
   "cell_type": "code",
   "execution_count": null,
   "id": "baa1f3f4-6a12-4a87-8792-d502eb6cd61d",
   "metadata": {},
   "outputs": [
    {
     "name": "stdin",
     "output_type": "stream",
     "text": [
      "Please enter an integer r\n"
     ]
    },
    {
     "name": "stdout",
     "output_type": "stream",
     "text": [
      "A invalid literal for int() with base 10: 'r'  occured please enter a valid integer.\n",
      "You have given 1 inputs.\n"
     ]
    },
    {
     "name": "stdin",
     "output_type": "stream",
     "text": [
      "Please enter an integer 5\n"
     ]
    },
    {
     "name": "stdout",
     "output_type": "stream",
     "text": [
      "25\n",
      "You have given 1 inputs.\n"
     ]
    },
    {
     "name": "stdin",
     "output_type": "stream",
     "text": [
      "Please enter an integer t\n"
     ]
    },
    {
     "name": "stdout",
     "output_type": "stream",
     "text": [
      "A invalid literal for int() with base 10: 't'  occured please enter a valid integer.\n",
      "You have given 2 inputs.\n"
     ]
    },
    {
     "name": "stdin",
     "output_type": "stream",
     "text": [
      "Please enter an integer t\n"
     ]
    },
    {
     "name": "stdout",
     "output_type": "stream",
     "text": [
      "A invalid literal for int() with base 10: 't'  occured please enter a valid integer.\n",
      "You have given 3 inputs.\n"
     ]
    },
    {
     "name": "stdin",
     "output_type": "stream",
     "text": [
      "Please enter an integer t\n"
     ]
    },
    {
     "name": "stdout",
     "output_type": "stream",
     "text": [
      "A invalid literal for int() with base 10: 't'  occured please enter a valid integer.\n",
      "You have given 4 inputs.\n"
     ]
    },
    {
     "name": "stdin",
     "output_type": "stream",
     "text": [
      "Please enter an integer t\n"
     ]
    },
    {
     "name": "stdout",
     "output_type": "stream",
     "text": [
      "A invalid literal for int() with base 10: 't'  occured please enter a valid integer.\n",
      "You have given 5 inputs.\n"
     ]
    },
    {
     "name": "stdin",
     "output_type": "stream",
     "text": [
      "Please enter an integer tt\n"
     ]
    },
    {
     "name": "stdout",
     "output_type": "stream",
     "text": [
      "A invalid literal for int() with base 10: 'tt'  occured please enter a valid integer.\n",
      "You have given 6 inputs.\n"
     ]
    }
   ],
   "source": [
    "incorret_in = 0\n",
    "while True:\n",
    "    try:\n",
    "        ask()\n",
    "    except ValueError as e:\n",
    "        print(f\"A {e}  occured please enter a valid integer.\")\n",
    "        incorret_in += 1\n",
    "    else:\n",
    "        continue\n",
    "    finally:\n",
    "        print(f\"You have given {incorret_in} inputs.\")"
   ]
  },
  {
   "cell_type": "code",
   "execution_count": null,
   "id": "cb2d771a-6aff-46b5-9b11-59d7e510335a",
   "metadata": {},
   "outputs": [],
   "source": []
  },
  {
   "cell_type": "code",
   "execution_count": null,
   "id": "5cc8abea-517f-443a-bff8-02c4fb060243",
   "metadata": {},
   "outputs": [],
   "source": []
  },
  {
   "cell_type": "code",
   "execution_count": null,
   "id": "74050cbd-ddb5-461f-a79d-1624f71ae880",
   "metadata": {},
   "outputs": [],
   "source": []
  },
  {
   "cell_type": "code",
   "execution_count": null,
   "id": "86117910-ead4-4aee-a845-cd812d03e6fc",
   "metadata": {},
   "outputs": [],
   "source": []
  },
  {
   "cell_type": "code",
   "execution_count": null,
   "id": "0f644026-121c-4997-bcdc-5e0fba9752de",
   "metadata": {},
   "outputs": [],
   "source": []
  }
 ],
 "metadata": {
  "kernelspec": {
   "display_name": "Python 3 (ipykernel)",
   "language": "python",
   "name": "python3"
  },
  "language_info": {
   "codemirror_mode": {
    "name": "ipython",
    "version": 3
   },
   "file_extension": ".py",
   "mimetype": "text/x-python",
   "name": "python",
   "nbconvert_exporter": "python",
   "pygments_lexer": "ipython3",
   "version": "3.12.7"
  }
 },
 "nbformat": 4,
 "nbformat_minor": 5
}
