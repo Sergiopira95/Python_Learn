{
 "cells": [
  {
   "cell_type": "code",
   "execution_count": 1,
   "id": "015a36fd-bf66-487f-8bd6-de81cf4aaa9b",
   "metadata": {},
   "outputs": [],
   "source": [
    "def hello():\n",
    "    print(\"Hello this is a simple function!\")"
   ]
  },
  {
   "cell_type": "code",
   "execution_count": 2,
   "id": "7671b40b-7e66-44bd-ac2c-488841c4a0fe",
   "metadata": {},
   "outputs": [
    {
     "name": "stdout",
     "output_type": "stream",
     "text": [
      "Hello this is a simple function!\n"
     ]
    }
   ],
   "source": [
    "hello()"
   ]
  },
  {
   "cell_type": "code",
   "execution_count": 3,
   "id": "5efb3df2-fef4-43b3-9eae-149c7e3e031d",
   "metadata": {},
   "outputs": [
    {
     "data": {
      "text/plain": [
       "<function __main__.hello()>"
      ]
     },
     "execution_count": 3,
     "metadata": {},
     "output_type": "execute_result"
    }
   ],
   "source": [
    "hello"
   ]
  },
  {
   "cell_type": "code",
   "execution_count": 4,
   "id": "8ff325d2-626f-4255-b3cc-88d531b0cdb9",
   "metadata": {},
   "outputs": [],
   "source": [
    "greet = hello"
   ]
  },
  {
   "cell_type": "code",
   "execution_count": 6,
   "id": "de7429cf-abfd-4da0-a02e-84c75d1680f5",
   "metadata": {},
   "outputs": [
    {
     "name": "stdout",
     "output_type": "stream",
     "text": [
      "Hello this is a simple function!\n"
     ]
    }
   ],
   "source": [
    "greet()"
   ]
  },
  {
   "cell_type": "code",
   "execution_count": 7,
   "id": "fd8d66d2-606b-4bc5-912c-9efee9dcbb96",
   "metadata": {},
   "outputs": [],
   "source": [
    "del hello"
   ]
  },
  {
   "cell_type": "code",
   "execution_count": 8,
   "id": "7bd28f3d-edea-40e4-bc35-f17db7dde89c",
   "metadata": {},
   "outputs": [
    {
     "ename": "NameError",
     "evalue": "name 'hello' is not defined",
     "output_type": "error",
     "traceback": [
      "\u001b[1;31m---------------------------------------------------------------------------\u001b[0m",
      "\u001b[1;31mNameError\u001b[0m                                 Traceback (most recent call last)",
      "Cell \u001b[1;32mIn[8], line 1\u001b[0m\n\u001b[1;32m----> 1\u001b[0m \u001b[43mhello\u001b[49m\n",
      "\u001b[1;31mNameError\u001b[0m: name 'hello' is not defined"
     ]
    }
   ],
   "source": [
    "hello"
   ]
  },
  {
   "cell_type": "code",
   "execution_count": 9,
   "id": "add00809-2ec9-49b4-b461-e06cb2d533a3",
   "metadata": {},
   "outputs": [
    {
     "name": "stdout",
     "output_type": "stream",
     "text": [
      "Hello this is a simple function!\n"
     ]
    }
   ],
   "source": [
    "greet()"
   ]
  },
  {
   "cell_type": "code",
   "execution_count": 21,
   "id": "ab4cb542-11a7-46ce-bfb2-b230487c8399",
   "metadata": {},
   "outputs": [],
   "source": [
    "def hello(name=\"Jose\"):\n",
    "    print(\"The hello() func has been executed\")\n",
    "\n",
    "    def greet():\n",
    "        return(\"\\t This is greet() inside hello()!\")\n",
    "\n",
    "    def welcome():\n",
    "        return(\"\\t This is grreet() inside hello()!\")\n",
    "\n",
    "    print(\"Hey I'm going to return a function!\")\n",
    "    if name == \"Jose\":\n",
    "        return greet\n",
    "    else:\n",
    "        return welcome"
   ]
  },
  {
   "cell_type": "code",
   "execution_count": 22,
   "id": "57b487af-4fe7-47e0-af3e-c1b784c26f40",
   "metadata": {},
   "outputs": [
    {
     "name": "stdout",
     "output_type": "stream",
     "text": [
      "The hello() func has been executed\n",
      "Hey I'm going to return a function!\n"
     ]
    }
   ],
   "source": [
    "new_func = hello()"
   ]
  },
  {
   "cell_type": "code",
   "execution_count": 25,
   "id": "9aeb7984-be61-4b0c-a91b-85a35ec254b4",
   "metadata": {},
   "outputs": [
    {
     "name": "stdout",
     "output_type": "stream",
     "text": [
      "\t This is greet() inside hello()!\n"
     ]
    }
   ],
   "source": [
    "print(new_func())"
   ]
  },
  {
   "cell_type": "code",
   "execution_count": 26,
   "id": "5d4570bf-345a-4f02-aa63-74538ad7ab15",
   "metadata": {},
   "outputs": [],
   "source": [
    "def hello():\n",
    "    return \"Hi Jose\""
   ]
  },
  {
   "cell_type": "code",
   "execution_count": 27,
   "id": "e591d1aa-01a4-4396-b855-4fdcb0d9fc9d",
   "metadata": {},
   "outputs": [],
   "source": [
    "def other(some_func):\n",
    "    print(\"Other code runs here\")\n",
    "    print(some_func)"
   ]
  },
  {
   "cell_type": "code",
   "execution_count": 29,
   "id": "cccc8b4b-b30c-460f-9b42-20891ef890b7",
   "metadata": {},
   "outputs": [
    {
     "name": "stdout",
     "output_type": "stream",
     "text": [
      "Other code runs here\n",
      "Hi Jose\n"
     ]
    }
   ],
   "source": [
    "other(hello())"
   ]
  },
  {
   "cell_type": "code",
   "execution_count": null,
   "id": "36dd1583-2300-497f-a456-a33a7c675608",
   "metadata": {},
   "outputs": [],
   "source": []
  },
  {
   "cell_type": "code",
   "execution_count": null,
   "id": "707250ac-18b2-4b2e-98ac-9a4e071cd47a",
   "metadata": {},
   "outputs": [],
   "source": []
  }
 ],
 "metadata": {
  "kernelspec": {
   "display_name": "Python 3 (ipykernel)",
   "language": "python",
   "name": "python3"
  },
  "language_info": {
   "codemirror_mode": {
    "name": "ipython",
    "version": 3
   },
   "file_extension": ".py",
   "mimetype": "text/x-python",
   "name": "python",
   "nbconvert_exporter": "python",
   "pygments_lexer": "ipython3",
   "version": "3.12.7"
  }
 },
 "nbformat": 4,
 "nbformat_minor": 5
}
