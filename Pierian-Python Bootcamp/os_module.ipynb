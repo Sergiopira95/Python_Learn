{
 "cells": [
  {
   "cell_type": "code",
   "execution_count": 2,
   "id": "d1bf37f9",
   "metadata": {},
   "outputs": [
    {
     "data": {
      "text/plain": [
       "'c:\\\\Users\\\\Lenovo\\\\Sergio\\\\Python_Learn\\\\Pierian-Python Bootcamp'"
      ]
     },
     "execution_count": 2,
     "metadata": {},
     "output_type": "execute_result"
    }
   ],
   "source": [
    "pwd"
   ]
  },
  {
   "cell_type": "code",
   "execution_count": 3,
   "id": "ca59d881",
   "metadata": {},
   "outputs": [],
   "source": [
    "f = open(\"practice.txt\", 'w+')\n",
    "f.write(\"This is a test string\")\n",
    "f.close()"
   ]
  },
  {
   "cell_type": "code",
   "execution_count": 4,
   "id": "a173f231",
   "metadata": {},
   "outputs": [
    {
     "data": {
      "text/plain": [
       "'c:\\\\Users\\\\Lenovo\\\\Sergio\\\\Python_Learn\\\\Pierian-Python Bootcamp'"
      ]
     },
     "execution_count": 4,
     "metadata": {},
     "output_type": "execute_result"
    }
   ],
   "source": [
    "import os\n",
    "os.getcwd()"
   ]
  },
  {
   "cell_type": "code",
   "execution_count": 5,
   "id": "cf554072",
   "metadata": {},
   "outputs": [
    {
     "data": {
      "text/plain": [
       "['.ipynb_checkpoints',\n",
       " '00-Warm-Up-Project-Exercises.ipynb',\n",
       " '02-Iterators and Generators Homework.ipynb',\n",
       " 'black_jack_game.ipynb',\n",
       " 'cap.py',\n",
       " 'Decorators.ipynb',\n",
       " 'error_and_exceptions.ipynb',\n",
       " 'my_module.py',\n",
       " 'OOP_Challenge.ipynb',\n",
       " 'OOP_Homework.ipynb',\n",
       " 'os_module.ipynb',\n",
       " 'practice.txt',\n",
       " 'testing.py',\n",
       " 'Tic-Tac-Toe-Game.ipynb',\n",
       " 'war_card_game.ipynb',\n",
       " '__pycache__']"
      ]
     },
     "execution_count": 5,
     "metadata": {},
     "output_type": "execute_result"
    }
   ],
   "source": [
    "os.listdir()"
   ]
  },
  {
   "cell_type": "code",
   "execution_count": 6,
   "id": "da86e7f2",
   "metadata": {},
   "outputs": [],
   "source": [
    "import shutil"
   ]
  },
  {
   "cell_type": "code",
   "execution_count": 7,
   "id": "9764668b",
   "metadata": {},
   "outputs": [
    {
     "data": {
      "text/plain": [
       "'c:\\\\Users\\\\Lenovo\\\\Sergio\\\\practice.txt'"
      ]
     },
     "execution_count": 7,
     "metadata": {},
     "output_type": "execute_result"
    }
   ],
   "source": [
    "shutil.move('practice.txt', 'c:\\\\Users\\\\Lenovo\\\\Sergio')"
   ]
  },
  {
   "cell_type": "code",
   "execution_count": 8,
   "id": "eb3448c6",
   "metadata": {},
   "outputs": [
    {
     "data": {
      "text/plain": [
       "['.git',\n",
       " 'Books',\n",
       " 'Business',\n",
       " 'Certificados',\n",
       " 'copia pf',\n",
       " 'Courses',\n",
       " 'Henry',\n",
       " 'Hojas de Vida',\n",
       " 'Images',\n",
       " 'Instaladores',\n",
       " 'Lexfi',\n",
       " 'Papers',\n",
       " 'practice.txt',\n",
       " 'Presupuesto personal mensual.xlsx',\n",
       " 'Proyecto Final Docs',\n",
       " 'prueba',\n",
       " 'Python_Learn',\n",
       " 'Revista Forbes',\n",
       " 'Revista Investigación y Ciencia',\n",
       " 'ultimatix_pwd.txt',\n",
       " 'welcome-to-docker',\n",
       " 'yelp-google-reviews']"
      ]
     },
     "execution_count": 8,
     "metadata": {},
     "output_type": "execute_result"
    }
   ],
   "source": [
    "os.listdir(\"c:\\\\Users\\\\Lenovo\\\\Sergio\")"
   ]
  },
  {
   "cell_type": "code",
   "execution_count": 9,
   "id": "da3bc2bb",
   "metadata": {},
   "outputs": [],
   "source": [
    "import send2trash"
   ]
  },
  {
   "cell_type": "code",
   "execution_count": 10,
   "id": "c3c3f844",
   "metadata": {},
   "outputs": [
    {
     "data": {
      "text/plain": [
       "'c:\\\\Users\\\\Lenovo\\\\Sergio\\\\Python_Learn\\\\Pierian-Python Bootcamp\\\\practice.txt'"
      ]
     },
     "execution_count": 10,
     "metadata": {},
     "output_type": "execute_result"
    }
   ],
   "source": [
    "shutil.move('c:\\\\Users\\\\Lenovo\\\\Sergio\\\\practice.txt', os.getcwd())"
   ]
  },
  {
   "cell_type": "code",
   "execution_count": 11,
   "id": "bc2ad983",
   "metadata": {},
   "outputs": [],
   "source": [
    "send2trash.send2trash('practice.txt')"
   ]
  },
  {
   "cell_type": "code",
   "execution_count": 12,
   "id": "983af49b",
   "metadata": {},
   "outputs": [
    {
     "name": "stdout",
     "output_type": "stream",
     "text": [
      "Currently looking at c:\\Users\\Lenovo\\Sergio\\Python_Learn\\Pierian-Python Bootcamp\n",
      "\n",
      "The subfolders are:\n",
      "\t subfolder: .ipynb_checkpoints\n",
      "\t subfolder: __pycache__\n",
      "\n",
      "\n",
      "The files are:\n",
      "\t File: 00-Warm-Up-Project-Exercises.ipynb\n",
      "\t File: 02-Iterators and Generators Homework.ipynb\n",
      "\t File: black_jack_game.ipynb\n",
      "\t File: cap.py\n",
      "\t File: Decorators.ipynb\n",
      "\t File: error_and_exceptions.ipynb\n",
      "\t File: my_module.py\n",
      "\t File: OOP_Challenge.ipynb\n",
      "\t File: OOP_Homework.ipynb\n",
      "\t File: os_module.ipynb\n",
      "\t File: testing.py\n",
      "\t File: Tic-Tac-Toe-Game.ipynb\n",
      "\t File: war_card_game.ipynb\n",
      "\n",
      "\n",
      "Currently looking at c:\\Users\\Lenovo\\Sergio\\Python_Learn\\Pierian-Python Bootcamp\\.ipynb_checkpoints\n",
      "\n",
      "The subfolders are:\n",
      "\n",
      "\n",
      "The files are:\n",
      "\t File: 00-Warm-Up-Project-Exercises-checkpoint.ipynb\n",
      "\t File: cap-checkpoint.py\n",
      "\t File: Decorators-checkpoint.ipynb\n",
      "\t File: error_and_exceptions-checkpoint.ipynb\n",
      "\t File: my_module-checkpoint.py\n",
      "\t File: OOP_Challenge-checkpoint.ipynb\n",
      "\t File: OOP_Homework-checkpoint.ipynb\n",
      "\t File: testing-checkpoint.py\n",
      "\t File: Tic-Tac-Toe-Game-checkpoint.ipynb\n",
      "\t File: war_card_game-checkpoint.ipynb\n",
      "\n",
      "\n",
      "Currently looking at c:\\Users\\Lenovo\\Sergio\\Python_Learn\\Pierian-Python Bootcamp\\__pycache__\n",
      "\n",
      "The subfolders are:\n",
      "\n",
      "\n",
      "The files are:\n",
      "\t File: cap.cpython-312.pyc\n",
      "\t File: my_module.cpython-312.pyc\n",
      "\n",
      "\n"
     ]
    }
   ],
   "source": [
    "for folder, sub_folders, files in os.walk(os.getcwd()):\n",
    "    \n",
    "    print(f\"Currently looking at {folder}\\n\")\n",
    "    print(f\"The subfolders are:\")\n",
    "    \n",
    "    for sub in sub_folders:\n",
    "        print(f\"\\t subfolder: {sub}\")\n",
    "    print(\"\\n\")\n",
    "    print(\"The files are:\")\n",
    "    for f in files:\n",
    "        print(f\"\\t File: {f}\")\n",
    "    print(\"\\n\")"
   ]
  },
  {
   "cell_type": "code",
   "execution_count": null,
   "id": "654934ce",
   "metadata": {},
   "outputs": [],
   "source": []
  }
 ],
 "metadata": {
  "kernelspec": {
   "display_name": "Python 3",
   "language": "python",
   "name": "python3"
  },
  "language_info": {
   "codemirror_mode": {
    "name": "ipython",
    "version": 3
   },
   "file_extension": ".py",
   "mimetype": "text/x-python",
   "name": "python",
   "nbconvert_exporter": "python",
   "pygments_lexer": "ipython3",
   "version": "3.12.6"
  }
 },
 "nbformat": 4,
 "nbformat_minor": 5
}
