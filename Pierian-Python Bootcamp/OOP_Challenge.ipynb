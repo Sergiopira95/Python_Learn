{
 "cells": [
  {
   "cell_type": "markdown",
   "id": "0ecde8b0-f757-4229-b00f-5e0d2bc3e2b5",
   "metadata": {},
   "source": [
    "# Object Oriented Programming Challenge\n",
    "For this challenge, create a bank account class that has two attributes:\n",
    "\n",
    "owner\n",
    "\n",
    "balance\n",
    "\n",
    "and two methods:\n",
    "\n",
    "deposit\n",
    "\n",
    "withdraw\n",
    "\n",
    "As an added requirement, withdrawals may not exceed the available balance.\n",
    "\n",
    "Instantiate your class, make several deposits and withdrawals, and test to make sure the account can't be overdrawn."
   ]
  },
  {
   "cell_type": "code",
   "execution_count": 38,
   "id": "49dfd69f-09bc-401a-a587-0cea51f24392",
   "metadata": {},
   "outputs": [],
   "source": [
    "class BankAccount:\n",
    "\n",
    "    def __init__(self, owner=\"Unknown\", balance=0):\n",
    "        \n",
    "        self.owner = owner\n",
    "        self.balance = balance\n",
    "\n",
    "    def deposit(self, amount):\n",
    "\n",
    "        self.balance += amount\n",
    "        print(f\"You have deposited {amount} into your account\")\n",
    "        \n",
    "    def withdraw(self, amount):\n",
    "        if self.balance == 0 or self.balance < amount:\n",
    "            print(\"You don't have resources to this transaction.\")\n",
    "            \n",
    "        elif self.balance > 0:\n",
    "            \n",
    "            self.balance -= amount\n",
    "            print(f\"You have withdrawed {amount} from your account.\")\n",
    "\n",
    "    def __str__(self):\n",
    "\n",
    "        return f\"Account owner:   {self.owner}\\nAccount balance:   {self.balance}\""
   ]
  },
  {
   "cell_type": "code",
   "execution_count": 39,
   "id": "68ed8db5-9f8e-45f6-a4e9-1b0ad0bd5194",
   "metadata": {},
   "outputs": [],
   "source": [
    "bank_account1 = BankAccount(\"Sergio Piratoba\")"
   ]
  },
  {
   "cell_type": "code",
   "execution_count": 40,
   "id": "cdb0a5cc-675e-4f11-932b-860cba5d7df6",
   "metadata": {},
   "outputs": [
    {
     "name": "stdout",
     "output_type": "stream",
     "text": [
      "You have deposited 10 into your account\n"
     ]
    }
   ],
   "source": [
    "bank_account1.deposit(10)"
   ]
  },
  {
   "cell_type": "code",
   "execution_count": 41,
   "id": "b9e3f627-7c30-499d-a4f7-fa5540b53936",
   "metadata": {},
   "outputs": [
    {
     "data": {
      "text/plain": [
       "10"
      ]
     },
     "execution_count": 41,
     "metadata": {},
     "output_type": "execute_result"
    }
   ],
   "source": [
    "bank_account1.balance"
   ]
  },
  {
   "cell_type": "code",
   "execution_count": 42,
   "id": "2d82fad1-9260-4d38-8838-99be0676edd9",
   "metadata": {},
   "outputs": [
    {
     "name": "stdout",
     "output_type": "stream",
     "text": [
      "You have withdrawed 10 from your account.\n"
     ]
    }
   ],
   "source": [
    "bank_account1.withdraw(10)"
   ]
  },
  {
   "cell_type": "code",
   "execution_count": 43,
   "id": "3cb3c30c-62bb-4ea8-a79a-abd946669e7d",
   "metadata": {},
   "outputs": [
    {
     "name": "stdout",
     "output_type": "stream",
     "text": [
      "Account owner:   Sergio Piratoba\n",
      "Account balance:   0\n"
     ]
    }
   ],
   "source": [
    "print(bank_account1)"
   ]
  },
  {
   "cell_type": "code",
   "execution_count": null,
   "id": "fb7a7b38-4e5f-4415-b4e9-09a2fb17b1e7",
   "metadata": {},
   "outputs": [],
   "source": []
  }
 ],
 "metadata": {
  "kernelspec": {
   "display_name": "Python 3 (ipykernel)",
   "language": "python",
   "name": "python3"
  },
  "language_info": {
   "codemirror_mode": {
    "name": "ipython",
    "version": 3
   },
   "file_extension": ".py",
   "mimetype": "text/x-python",
   "name": "python",
   "nbconvert_exporter": "python",
   "pygments_lexer": "ipython3",
   "version": "3.12.7"
  }
 },
 "nbformat": 4,
 "nbformat_minor": 5
}
