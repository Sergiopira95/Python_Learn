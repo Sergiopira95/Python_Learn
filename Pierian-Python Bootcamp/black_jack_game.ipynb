{
 "cells": [
  {
   "cell_type": "markdown",
   "id": "4cf4a8b5",
   "metadata": {},
   "source": [
    "# Milestone Project 2 - Blackjack Game\n",
    "In this milestone project you will be creating a Complete BlackJack Card Game in Python.\n",
    "\n",
    "Here are the requirements:\n",
    "\n",
    "You need to create a simple text-based BlackJack game\n",
    "The game needs to have one player versus an automated dealer.\n",
    "The player can stand or hit.\n",
    "The player must be able to pick their betting amount.\n",
    "You need to keep track of the player's total money.\n",
    "You need to alert the player of wins, losses, or busts, etc...\n",
    "And most importantly:\n",
    "\n",
    "You must use OOP and classes in some portion of your game. You can not just use functions in your game. Use classes to help you define the Deck and the Player's hand. There are many right ways to do this, so explore it well!\n",
    "Feel free to expand this game. Try including multiple players. Try adding in Double-Down and card splits! Remember to you are free to use any resources you want and as always:\n",
    "\n",
    "HAVE FUN!"
   ]
  },
  {
   "cell_type": "code",
   "execution_count": 3,
   "id": "ebbf3110",
   "metadata": {},
   "outputs": [],
   "source": [
    "# Imports.\n",
    "import random\n",
    "\n",
    "# Global Variables.\n",
    "SUITS = ('Hearts', 'Diamonds', 'Spades', 'Clubs')\n",
    "RANKS = ('Two', 'Three', 'Four', 'Five', 'Six', 'Seven', 'Eight', 'Nine', 'Ten', 'Jack', 'Queen', 'King', 'Ace')\n",
    "VALUES = {'Two':2, 'Three':3, 'Four':4, 'Five':5, 'Six':6, 'Seven':7, 'Eight':8, \n",
    "            'Nine':9, 'Ten':10, 'Jack':11, 'Queen':12, 'King':13, 'Ace':14}"
   ]
  },
  {
   "cell_type": "code",
   "execution_count": 4,
   "id": "7aca6cb1",
   "metadata": {},
   "outputs": [],
   "source": [
    "class Card():\n",
    "    # Constructor method\n",
    "    def __init__(self, suit, rank):\n",
    "        self.suit = suit\n",
    "        self.rank = rank\n",
    "        self.value = VALUES[rank]\n",
    "        \n",
    "    def __str__(self):\n",
    "        return self.rank + ' of ' + self.suit"
   ]
  },
  {
   "cell_type": "code",
   "execution_count": 5,
   "id": "29419dd5",
   "metadata": {},
   "outputs": [],
   "source": [
    "class Deck():\n",
    "    # Constructior method.\n",
    "    def __init__(self):\n",
    "        self.all_cards = [] \n",
    "        for suit in SUITS:\n",
    "            for rank in RANKS:\n",
    "                # This assumes the Card class has already been defined!\n",
    "                self.all_cards.append(Card(suit,rank))\n",
    "                \n",
    "    def shuffle(self):\n",
    "        # Note this doesn't return anything\n",
    "        random.shuffle(self.all_cards)\n",
    "        \n",
    "    def deal_one(self):\n",
    "        # Note we remove one card from the list of all_cards\n",
    "        return self.all_cards.pop() "
   ]
  },
  {
   "cell_type": "code",
   "execution_count": 6,
   "id": "99fe2d1d",
   "metadata": {},
   "outputs": [],
   "source": [
    "class ChipStack():\n",
    "\n",
    "    def __init__(self, owner=\"Unknown\", balance=0):\n",
    "        \n",
    "        self.owner = owner\n",
    "        self.balance = balance\n",
    "\n",
    "    def buy_in(self, amount):\n",
    "\n",
    "        self.balance += amount\n",
    "        print(f\"You have bougth-in {amount} in chips.\")\n",
    "        \n",
    "    def bet(self, amount):\n",
    "        if self.balance < amount:\n",
    "            raise ValueError(\"You don't have enough to bet.\")\n",
    "            \n",
    "        elif self.balance >= amount :\n",
    "            \n",
    "            self.balance -= amount\n",
    "            print(f\"bets {amount}.\")\n",
    "\n",
    "    def __str__(self):\n",
    "\n",
    "        return f\"Player:   {self.owner}\\nCurrent Stack:   {self.balance}\""
   ]
  },
  {
   "cell_type": "code",
   "execution_count": 7,
   "id": "2929b3c0",
   "metadata": {},
   "outputs": [],
   "source": [
    "class Player():\n",
    "    # Constructor method.\n",
    "    def __init__(self, name, buy_in):\n",
    "        self.name = name\n",
    "        self.hand = []\n",
    "        self.stack = ChipStack(name, buy_in)\n",
    "    \n",
    "    def add_card(self, dealed_card):\n",
    "        self.hand.append(dealed_card)\n",
    "    \n",
    "    def __str__(self):\n",
    "        return f'Player {self.name} has {len(self.hand)} cards.'"
   ]
  },
  {
   "cell_type": "code",
   "execution_count": 8,
   "id": "39d50599",
   "metadata": {},
   "outputs": [],
   "source": [
    "# Game set up.\n",
    "def ask_player_names():\n",
    "    '''\n",
    "    \n",
    "    '''\n",
    "    no_players = True\n",
    "    players_names = []\n",
    "    while no_players:\n",
    "        try:\n",
    "            players = int(input(\"Please enter the number of players.\"))\n",
    "            for player in range(players):\n",
    "                players_names.append(input(f\"Please enter the name of player {player+1}\"))\n",
    "            no_players = False\n",
    "        except Exception as e:\n",
    "            print(f\"An error has occurred: {e}. Please make sure you are giving a integer number of players.\")\n",
    "    \n",
    "    return players_names"
   ]
  },
  {
   "cell_type": "code",
   "execution_count": 9,
   "id": "6b10c12c",
   "metadata": {},
   "outputs": [],
   "source": [
    "def players_chips_setup(players_names):\n",
    "    '''\n",
    "    '''\n",
    "    players = []\n",
    "    for player in players_names:\n",
    "        players.append(Player(player, 10000))\n",
    "    \n",
    "    return players\n",
    "        "
   ]
  },
  {
   "cell_type": "code",
   "execution_count": 10,
   "id": "be54f443",
   "metadata": {},
   "outputs": [],
   "source": [
    "def hand_sum(hand):\n",
    "    '''\n",
    "    '''\n",
    "    sum = 0\n",
    "    for card in hand:\n",
    "        sum = sum + VALUES[card.rank]\n",
    "    return sum"
   ]
  },
  {
   "cell_type": "code",
   "execution_count": 13,
   "id": "d26e2d84",
   "metadata": {},
   "outputs": [
    {
     "name": "stdout",
     "output_type": "stream",
     "text": [
      "sergio bets 123.\n",
      "sergio hand: Five of Diamonds , King of Hearts\n",
      "Dealer hand: Six of Spades[]\n",
      "sergio busts.\n"
     ]
    }
   ],
   "source": [
    "new_deck = Deck()\n",
    "new_deck.shuffle()\n",
    "players_names = ask_player_names()\n",
    "players = players_chips_setup(players_names)\n",
    "for player in players:\n",
    "    bad_bet = True\n",
    "    while bad_bet:\n",
    "        try:\n",
    "            bet = int(input(f\"{player.name} please place your bet:\"))\n",
    "            print(player.name, end=' ')\n",
    "            player.stack.bet(bet)\n",
    "            bad_bet = False\n",
    "        except ValueError as e:\n",
    "            print(e)\n",
    "    player.add_card(new_deck.deal_one())\n",
    "    player.add_card(new_deck.deal_one())\n",
    "    print(f\"{player.name} hand: {player.hand[0]} , {player.hand[1]}\")\n",
    "    \n",
    "dealer = Player(\"Dealer\", 1000000)\n",
    "dealer.add_card(new_deck.deal_one())\n",
    "dealer.add_card(new_deck.deal_one())\n",
    "print(f\"{dealer.name} hand: {dealer.hand[0]}\" + \"[]\")\n",
    "\n",
    "for player in players:\n",
    "    hit = True\n",
    "    while hit:\n",
    "        player_hit = input(f\"Player {player.name} do you wanna hit? y/n\")\n",
    "        if player_hit == 'y':\n",
    "            player.add_card(new_deck.deal_one())\n",
    "            if hand_sum(player.hand) > 21:\n",
    "                print(f\"{player.name} busts.\")\n",
    "                break\n",
    "        else:\n",
    "            print(f\" Player {player.name} stands.\")\n",
    "            hit = False"
   ]
  },
  {
   "cell_type": "code",
   "execution_count": null,
   "id": "61ced7f9",
   "metadata": {},
   "outputs": [],
   "source": []
  }
 ],
 "metadata": {
  "kernelspec": {
   "display_name": "Python 3",
   "language": "python",
   "name": "python3"
  },
  "language_info": {
   "codemirror_mode": {
    "name": "ipython",
    "version": 3
   },
   "file_extension": ".py",
   "mimetype": "text/x-python",
   "name": "python",
   "nbconvert_exporter": "python",
   "pygments_lexer": "ipython3",
   "version": "3.12.6"
  }
 },
 "nbformat": 4,
 "nbformat_minor": 5
}
