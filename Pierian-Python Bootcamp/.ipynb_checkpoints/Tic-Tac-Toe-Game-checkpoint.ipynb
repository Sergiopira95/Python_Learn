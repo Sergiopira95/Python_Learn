{
 "cells": [
  {
   "cell_type": "code",
   "execution_count": 2,
   "id": "82b217c3-e481-4c88-94c3-88970474e818",
   "metadata": {},
   "outputs": [],
   "source": [
    "def game_on(user_selection: str) -> bool:\n",
    "    \"\"\"\n",
    "    Function to question the user wether continue playing or end game.\n",
    "\n",
    "    Args:\n",
    "    user_selection (str): The answer of the user 'Y' or 'N'.\n",
    "\n",
    "    Returns:\n",
    "    bool: True if the user selects 'Y' or False if the user selects 'N'.\n",
    "    \"\"\"\n",
    "    if user_selection.lower() == 'y':\n",
    "        return True\n",
    "    elif user_selection.lower() == 'n':\n",
    "        return False"
   ]
  },
  {
   "cell_type": "code",
   "execution_count": 90,
   "id": "f9e9a27e-8c3a-4d40-afac-17768039f7a2",
   "metadata": {},
   "outputs": [],
   "source": [
    "def welcome(player1: str, player2: str) -> None:\n",
    "    \"\"\"\n",
    "    Funtion to print welcoming message for the Players.\n",
    "    Args:\n",
    "    player1 (str): The name of one the two players.\n",
    "    player2 (str): The name of the other one player.\n",
    "\n",
    "    Returns: None\n",
    "    \"\"\"\n",
    "    player1 = player1.capitalize()\n",
    "    player2 = player2.capitalize()\n",
    "    print(f\"Welcome {player1} and {player2} to this amazing Tic Tac Toe game.\")"
   ]
  },
  {
   "cell_type": "code",
   "execution_count": 52,
   "id": "b0855661-743a-4892-aab9-6d789a3aabb9",
   "metadata": {},
   "outputs": [],
   "source": [
    "def turns(players_names: list) -> list:\n",
    "    \"\"\"\n",
    "    Function to determine which player start first based on the alphabetically order of the names.\n",
    "\n",
    "    Args:\n",
    "    players_names (str): List with the two names of the players.\n",
    "\n",
    "    Returns:\n",
    "    list: a list with the asigned marks based on the alphabetical order of the players namesin tuples\n",
    "    \"\"\"\n",
    "    players_names.sort()\n",
    "    players_turns = [(players_names[0], 'X'), (players_names[1],'O')]\n",
    "    return players_turns\n",
    "\n"
   ]
  },
  {
   "cell_type": "code",
   "execution_count": 128,
   "id": "d09ab138-9a94-435a-adfd-17e0c0fd66df",
   "metadata": {},
   "outputs": [],
   "source": [
    "def player_choice(player_inturn: tuple, r: list) -> int:\n",
    "    \"\"\"\n",
    "    Function to ask player their mark selection based on a position in the range [1,9].\n",
    "    Also this function makes a input validation, this is if the user dont enter a digit between 1-9, will ask again.\n",
    "    \n",
    "    Args:\n",
    "    player_inturn (tuple): Tuple Name of the player in turn and its asigned mark.\n",
    "    r (list): list with available unmarked.\n",
    "    Returns:\n",
    "    int: The number of the position selected by the player inturn, previously validated.\n",
    "    \"\"\"\n",
    "    choice = \"Wrong\"\n",
    "    while not choice.isdigit():\n",
    "        choice = input(f\"{player_inturn[0].capitalize()} is your turn, choice where to mark a {player_inturn[1]} in the unmarked:\")\n",
    "        if not choice in r:\n",
    "            choice = \"Wrong\"\n",
    "    return int(choice)"
   ]
  },
  {
   "cell_type": "code",
   "execution_count": 68,
   "id": "56acbdaf-36da-474c-b4f2-644911f3aba0",
   "metadata": {},
   "outputs": [
    {
     "data": {
      "text/plain": [
       "12"
      ]
     },
     "execution_count": 68,
     "metadata": {},
     "output_type": "execute_result"
    }
   ],
   "source": [
    "int('12')"
   ]
  },
  {
   "cell_type": "code",
   "execution_count": 116,
   "id": "2fde8bdf-91aa-41eb-a0d3-242f74ad7fef",
   "metadata": {},
   "outputs": [
    {
     "data": {
      "text/plain": [
       "False"
      ]
     },
     "execution_count": 116,
     "metadata": {},
     "output_type": "execute_result"
    }
   ],
   "source": [
    "\"Wrong\" in ['1','2','3']"
   ]
  },
  {
   "cell_type": "code",
   "execution_count": 126,
   "id": "3cbecae4-648e-4731-bbeb-c715aa1b5e5e",
   "metadata": {},
   "outputs": [],
   "source": [
    "def show_board_availables(marked: list) -> list:\n",
    "    \"\"\"\n",
    "    Function to display the current game board wiyh the marked positions and the positions avaliables to mark.\n",
    "\n",
    "    Args:\n",
    "    marked (list): A list with the correspondent mark or empty.\n",
    "\n",
    "    Returns:\n",
    "    list: The function returns a list with the positions available too be marked in the current board.\n",
    "    \"\"\"\n",
    "    non_marks = []\n",
    "    i = 0\n",
    "    for e in marked:\n",
    "        if e == ' ':\n",
    "            non_marks.append(str(i))\n",
    "        i += 1\n",
    "            \n",
    "    print(f' {marked[0]} | {marked[1]} | {marked[2]} ')\n",
    "    print('---+---+---')\n",
    "    print(f' {marked[3]} | {marked[4]} | {marked[5]} ')\n",
    "    print('---+---+---')\n",
    "    print(f' {marked[6]} | {marked[7]} | {marked[8]} ')\n",
    "\n",
    "    return non_marks"
   ]
  },
  {
   "cell_type": "code",
   "execution_count": 85,
   "id": "4ab64163-d2d3-4a6f-8d36-b9132c7a2410",
   "metadata": {},
   "outputs": [],
   "source": [
    "def players_names() -> tuple:\n",
    "    \"\"\"\n",
    "    Function to ask and validate the numbers of the players.\n",
    "\n",
    "    Returns:\n",
    "    tuple: a tuple with the validated names.\n",
    "    \"\"\"\n",
    "    different_names = True\n",
    "    while different_names:\n",
    "        player1 = input(\"Please enter Player 1 name: \").strip().lower()\n",
    "        player2 = input(\"Please enter Player 2 name: \").strip().lower()\n",
    "        if player1 != player2:\n",
    "            different_names = False\n",
    "        else:\n",
    "            print(\"Remember this is a two player game, look up for a friend.\")\n",
    "    return (player1, player2)"
   ]
  },
  {
   "cell_type": "code",
   "execution_count": 115,
   "id": "4aeb6cec-37e1-4b4a-8892-e56b30a1738a",
   "metadata": {},
   "outputs": [],
   "source": [
    "def update_board(board: list, choice: int,  player: tuple) -> list:\n",
    "    \"\"\"\n",
    "    \n",
    "    \"\"\"\n",
    "    board[choice] = player[1]\n",
    "    return board"
   ]
  },
  {
   "cell_type": "code",
   "execution_count": 103,
   "id": "60fc99e7-51c5-4021-9b6e-b398398baf44",
   "metadata": {},
   "outputs": [],
   "source": [
    "def check_win_or_tie(board: list) -> tuple:\n",
    "    \"\"\"\n",
    "    \"\"\"\n",
    "    win = False\n",
    "    tie = False\n",
    "    winner = ''\n",
    "    if board[6] == board[4] == board[2] == 'X' or board[6] == board[4] == board[2] == 'O':\n",
    "        win = True\n",
    "        winner = board[6]\n",
    "    elif board[8] == board[4] == board[0] == 'X' or board[8] == board[4] == board[0] == 'O':\n",
    "        win = True\n",
    "        winner = board[8]\n",
    "    for i in range(0, 9, 3):\n",
    "        a,b,c = range(i, i+3)\n",
    "        if board[a] == board[b] == board[c] == 'X' or board[a] == board[b] == board[c] == 'O':\n",
    "            win = True\n",
    "            winner = board[a]\n",
    "    for i in range(0,3):\n",
    "        a,b,c = range(i, i+7, 3)\n",
    "        if board[a] == board[b] == board[c] == 'X' or board[a] == board[b] == board[c] == 'O':\n",
    "            win = True\n",
    "            winner = board[a]\n",
    "    if ' '  not in board and not win:\n",
    "        tie = True\n",
    "        \n",
    "    return win, tie, winner"
   ]
  },
  {
   "cell_type": "code",
   "execution_count": 161,
   "id": "aa8d6ae5-fda5-4ba0-832e-56a05d8d1cdf",
   "metadata": {},
   "outputs": [],
   "source": [
    "def play_tictactoe():\n",
    "    still_playing = True\n",
    "    player1, player2 = players_names()\n",
    "    \n",
    "    while still_playing:\n",
    "        board = [' ', ' ', ' ',\n",
    "                 ' ', ' ', ' ',\n",
    "                 ' ', ' ', ' ']  # Nuevo tablero en cada partida\n",
    "        \n",
    "        welcome(player1, player2)\n",
    "        order_to_play = turns([player1, player2])\n",
    "        \n",
    "        win = False\n",
    "        tie = False\n",
    "        winner = ''\n",
    "        \n",
    "        while not win and not tie:\n",
    "            for player in order_to_play:\n",
    "                r = show_board_availables(board)\n",
    "                choice = player_choice(player, r)\n",
    "                board = update_board(board, choice, player)\n",
    "                win, tie, winner = check_win_or_tie(board)\n",
    "                if win or tie:\n",
    "                    break\n",
    "        \n",
    "        \n",
    "        if winner == 'X':\n",
    "            print(f\"¡Felicidades {order_to_play[0][0]}, ganaste!\")\n",
    "        elif winner == 'O':\n",
    "            print(f\"¡Felicidades {order_to_play[1][0]}, ganaste!\")\n",
    "        elif tie:\n",
    "            print(\"¡Es un empate!\")\n",
    "        \n",
    "        # Preguntar si quieren jugar otra partida\n",
    "        still_playing = game_on(input(\"¿Quieres jugar otra vez? (y/n): \"))\n"
   ]
  },
  {
   "cell_type": "code",
   "execution_count": 160,
   "id": "99341c75-de85-4105-98f1-d45900bf1117",
   "metadata": {},
   "outputs": [
    {
     "name": "stdin",
     "output_type": "stream",
     "text": [
      "Please enter Player 1 name:  j\n",
      "Please enter Player 2 name:  o\n"
     ]
    },
    {
     "name": "stdout",
     "output_type": "stream",
     "text": [
      "Welcome J and O to this amazing Tic Tac Toe game.\n",
      "   |   |   \n",
      "---+---+---\n",
      "   |   |   \n",
      "---+---+---\n",
      "   |   |   \n"
     ]
    },
    {
     "name": "stdin",
     "output_type": "stream",
     "text": [
      "J is your turn, choice where to mark a X in the unmarked: 1\n"
     ]
    },
    {
     "name": "stdout",
     "output_type": "stream",
     "text": [
      "   | X |   \n",
      "---+---+---\n",
      "   |   |   \n",
      "---+---+---\n",
      "   |   |   \n"
     ]
    },
    {
     "name": "stdin",
     "output_type": "stream",
     "text": [
      "O is your turn, choice where to mark a O in the unmarked: 0\n"
     ]
    },
    {
     "name": "stdout",
     "output_type": "stream",
     "text": [
      " O | X |   \n",
      "---+---+---\n",
      "   |   |   \n",
      "---+---+---\n",
      "   |   |   \n"
     ]
    },
    {
     "name": "stdin",
     "output_type": "stream",
     "text": [
      "J is your turn, choice where to mark a X in the unmarked: 2\n"
     ]
    },
    {
     "name": "stdout",
     "output_type": "stream",
     "text": [
      " O | X | X \n",
      "---+---+---\n",
      "   |   |   \n",
      "---+---+---\n",
      "   |   |   \n"
     ]
    },
    {
     "name": "stdin",
     "output_type": "stream",
     "text": [
      "O is your turn, choice where to mark a O in the unmarked: 3\n"
     ]
    },
    {
     "name": "stdout",
     "output_type": "stream",
     "text": [
      " O | X | X \n",
      "---+---+---\n",
      " O |   |   \n",
      "---+---+---\n",
      "   |   |   \n"
     ]
    },
    {
     "name": "stdin",
     "output_type": "stream",
     "text": [
      "J is your turn, choice where to mark a X in the unmarked: 4\n"
     ]
    },
    {
     "name": "stdout",
     "output_type": "stream",
     "text": [
      " O | X | X \n",
      "---+---+---\n",
      " O | X |   \n",
      "---+---+---\n",
      "   |   |   \n"
     ]
    },
    {
     "name": "stdin",
     "output_type": "stream",
     "text": [
      "O is your turn, choice where to mark a O in the unmarked: 6\n"
     ]
    },
    {
     "name": "stdout",
     "output_type": "stream",
     "text": [
      "¡Felicidades o, ganaste!\n"
     ]
    },
    {
     "name": "stdin",
     "output_type": "stream",
     "text": [
      "¿Quieres jugar otra vez? (y/n):  y\n"
     ]
    },
    {
     "name": "stdout",
     "output_type": "stream",
     "text": [
      "Welcome J and O to this amazing Tic Tac Toe game.\n",
      "   |   |   \n",
      "---+---+---\n",
      "   |   |   \n",
      "---+---+---\n",
      "   |   |   \n"
     ]
    },
    {
     "name": "stdin",
     "output_type": "stream",
     "text": [
      "J is your turn, choice where to mark a X in the unmarked: j\n",
      "J is your turn, choice where to mark a X in the unmarked: o\n",
      "J is your turn, choice where to mark a X in the unmarked: 0\n"
     ]
    },
    {
     "name": "stdout",
     "output_type": "stream",
     "text": [
      " X |   |   \n",
      "---+---+---\n",
      "   |   |   \n",
      "---+---+---\n",
      "   |   |   \n"
     ]
    },
    {
     "name": "stdin",
     "output_type": "stream",
     "text": [
      "O is your turn, choice where to mark a O in the unmarked: 1\n"
     ]
    },
    {
     "name": "stdout",
     "output_type": "stream",
     "text": [
      " X | O |   \n",
      "---+---+---\n",
      "   |   |   \n",
      "---+---+---\n",
      "   |   |   \n"
     ]
    },
    {
     "name": "stdin",
     "output_type": "stream",
     "text": [
      "J is your turn, choice where to mark a X in the unmarked: 2\n"
     ]
    },
    {
     "name": "stdout",
     "output_type": "stream",
     "text": [
      " X | O | X \n",
      "---+---+---\n",
      "   |   |   \n",
      "---+---+---\n",
      "   |   |   \n"
     ]
    },
    {
     "name": "stdin",
     "output_type": "stream",
     "text": [
      "O is your turn, choice where to mark a O in the unmarked: 3\n"
     ]
    },
    {
     "name": "stdout",
     "output_type": "stream",
     "text": [
      " X | O | X \n",
      "---+---+---\n",
      " O |   |   \n",
      "---+---+---\n",
      "   |   |   \n"
     ]
    },
    {
     "name": "stdin",
     "output_type": "stream",
     "text": [
      "J is your turn, choice where to mark a X in the unmarked: 4\n"
     ]
    },
    {
     "name": "stdout",
     "output_type": "stream",
     "text": [
      " X | O | X \n",
      "---+---+---\n",
      " O | X |   \n",
      "---+---+---\n",
      "   |   |   \n"
     ]
    },
    {
     "name": "stdin",
     "output_type": "stream",
     "text": [
      "O is your turn, choice where to mark a O in the unmarked: 5\n"
     ]
    },
    {
     "name": "stdout",
     "output_type": "stream",
     "text": [
      " X | O | X \n",
      "---+---+---\n",
      " O | X | O \n",
      "---+---+---\n",
      "   |   |   \n"
     ]
    },
    {
     "name": "stdin",
     "output_type": "stream",
     "text": [
      "J is your turn, choice where to mark a X in the unmarked: 6\n"
     ]
    },
    {
     "name": "stdout",
     "output_type": "stream",
     "text": [
      " X | O | X \n",
      "---+---+---\n",
      " O | X | O \n",
      "---+---+---\n",
      " X |   |   \n"
     ]
    },
    {
     "name": "stdin",
     "output_type": "stream",
     "text": [
      "O is your turn, choice where to mark a O in the unmarked: 7\n"
     ]
    },
    {
     "name": "stdout",
     "output_type": "stream",
     "text": [
      "¡Felicidades j, ganaste!\n"
     ]
    },
    {
     "ename": "KeyboardInterrupt",
     "evalue": "Interrupted by user",
     "output_type": "error",
     "traceback": [
      "\u001b[1;31m---------------------------------------------------------------------------\u001b[0m",
      "\u001b[1;31mKeyboardInterrupt\u001b[0m                         Traceback (most recent call last)",
      "Cell \u001b[1;32mIn[160], line 1\u001b[0m\n\u001b[1;32m----> 1\u001b[0m \u001b[43mplay_tictactoe\u001b[49m\u001b[43m(\u001b[49m\u001b[43m)\u001b[49m\n",
      "Cell \u001b[1;32mIn[159], line 35\u001b[0m, in \u001b[0;36mplay_tictactoe\u001b[1;34m()\u001b[0m\n\u001b[0;32m     32\u001b[0m     \u001b[38;5;28mprint\u001b[39m(\u001b[38;5;124m\"\u001b[39m\u001b[38;5;124m¡Es un empate!\u001b[39m\u001b[38;5;124m\"\u001b[39m)\n\u001b[0;32m     34\u001b[0m \u001b[38;5;66;03m# Preguntar si quieren jugar otra partida\u001b[39;00m\n\u001b[1;32m---> 35\u001b[0m still_playing \u001b[38;5;241m=\u001b[39m game_on(\u001b[38;5;28;43minput\u001b[39;49m\u001b[43m(\u001b[49m\u001b[38;5;124;43m\"\u001b[39;49m\u001b[38;5;124;43m¿Quieres jugar otra vez? (y/n): \u001b[39;49m\u001b[38;5;124;43m\"\u001b[39;49m\u001b[43m)\u001b[49m)\n",
      "File \u001b[1;32m~\\AppData\\Roaming\\Python\\Python312\\site-packages\\ipykernel\\kernelbase.py:1282\u001b[0m, in \u001b[0;36mKernel.raw_input\u001b[1;34m(self, prompt)\u001b[0m\n\u001b[0;32m   1280\u001b[0m     msg \u001b[38;5;241m=\u001b[39m \u001b[38;5;124m\"\u001b[39m\u001b[38;5;124mraw_input was called, but this frontend does not support input requests.\u001b[39m\u001b[38;5;124m\"\u001b[39m\n\u001b[0;32m   1281\u001b[0m     \u001b[38;5;28;01mraise\u001b[39;00m StdinNotImplementedError(msg)\n\u001b[1;32m-> 1282\u001b[0m \u001b[38;5;28;01mreturn\u001b[39;00m \u001b[38;5;28;43mself\u001b[39;49m\u001b[38;5;241;43m.\u001b[39;49m\u001b[43m_input_request\u001b[49m\u001b[43m(\u001b[49m\n\u001b[0;32m   1283\u001b[0m \u001b[43m    \u001b[49m\u001b[38;5;28;43mstr\u001b[39;49m\u001b[43m(\u001b[49m\u001b[43mprompt\u001b[49m\u001b[43m)\u001b[49m\u001b[43m,\u001b[49m\n\u001b[0;32m   1284\u001b[0m \u001b[43m    \u001b[49m\u001b[38;5;28;43mself\u001b[39;49m\u001b[38;5;241;43m.\u001b[39;49m\u001b[43m_parent_ident\u001b[49m\u001b[43m[\u001b[49m\u001b[38;5;124;43m\"\u001b[39;49m\u001b[38;5;124;43mshell\u001b[39;49m\u001b[38;5;124;43m\"\u001b[39;49m\u001b[43m]\u001b[49m\u001b[43m,\u001b[49m\n\u001b[0;32m   1285\u001b[0m \u001b[43m    \u001b[49m\u001b[38;5;28;43mself\u001b[39;49m\u001b[38;5;241;43m.\u001b[39;49m\u001b[43mget_parent\u001b[49m\u001b[43m(\u001b[49m\u001b[38;5;124;43m\"\u001b[39;49m\u001b[38;5;124;43mshell\u001b[39;49m\u001b[38;5;124;43m\"\u001b[39;49m\u001b[43m)\u001b[49m\u001b[43m,\u001b[49m\n\u001b[0;32m   1286\u001b[0m \u001b[43m    \u001b[49m\u001b[43mpassword\u001b[49m\u001b[38;5;241;43m=\u001b[39;49m\u001b[38;5;28;43;01mFalse\u001b[39;49;00m\u001b[43m,\u001b[49m\n\u001b[0;32m   1287\u001b[0m \u001b[43m\u001b[49m\u001b[43m)\u001b[49m\n",
      "File \u001b[1;32m~\\AppData\\Roaming\\Python\\Python312\\site-packages\\ipykernel\\kernelbase.py:1325\u001b[0m, in \u001b[0;36mKernel._input_request\u001b[1;34m(self, prompt, ident, parent, password)\u001b[0m\n\u001b[0;32m   1322\u001b[0m \u001b[38;5;28;01mexcept\u001b[39;00m \u001b[38;5;167;01mKeyboardInterrupt\u001b[39;00m:\n\u001b[0;32m   1323\u001b[0m     \u001b[38;5;66;03m# re-raise KeyboardInterrupt, to truncate traceback\u001b[39;00m\n\u001b[0;32m   1324\u001b[0m     msg \u001b[38;5;241m=\u001b[39m \u001b[38;5;124m\"\u001b[39m\u001b[38;5;124mInterrupted by user\u001b[39m\u001b[38;5;124m\"\u001b[39m\n\u001b[1;32m-> 1325\u001b[0m     \u001b[38;5;28;01mraise\u001b[39;00m \u001b[38;5;167;01mKeyboardInterrupt\u001b[39;00m(msg) \u001b[38;5;28;01mfrom\u001b[39;00m \u001b[38;5;28;01mNone\u001b[39;00m\n\u001b[0;32m   1326\u001b[0m \u001b[38;5;28;01mexcept\u001b[39;00m \u001b[38;5;167;01mException\u001b[39;00m:\n\u001b[0;32m   1327\u001b[0m     \u001b[38;5;28mself\u001b[39m\u001b[38;5;241m.\u001b[39mlog\u001b[38;5;241m.\u001b[39mwarning(\u001b[38;5;124m\"\u001b[39m\u001b[38;5;124mInvalid Message:\u001b[39m\u001b[38;5;124m\"\u001b[39m, exc_info\u001b[38;5;241m=\u001b[39m\u001b[38;5;28;01mTrue\u001b[39;00m)\n",
      "\u001b[1;31mKeyboardInterrupt\u001b[0m: Interrupted by user"
     ]
    }
   ],
   "source": [
    "play_tictactoe()"
   ]
  }
 ],
 "metadata": {
  "kernelspec": {
   "display_name": "Python 3 (ipykernel)",
   "language": "python",
   "name": "python3"
  },
  "language_info": {
   "codemirror_mode": {
    "name": "ipython",
    "version": 3
   },
   "file_extension": ".py",
   "mimetype": "text/x-python",
   "name": "python",
   "nbconvert_exporter": "python",
   "pygments_lexer": "ipython3",
   "version": "3.12.7"
  }
 },
 "nbformat": 4,
 "nbformat_minor": 5
}
