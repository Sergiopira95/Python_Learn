{
 "cells": [
  {
   "cell_type": "code",
   "execution_count": 5,
   "metadata": {},
   "outputs": [
    {
     "name": "stdout",
     "output_type": "stream",
     "text": [
      "Cube = 125\n",
      "Execution Complete!\n"
     ]
    }
   ],
   "source": [
    "class ZeroCubeError(Exception):\n",
    "    '''0 Can\\'t be passed as a cube'''\n",
    "\n",
    "class Cube():\n",
    "    def __init__(self, num):\n",
    "        num = int(num)\n",
    "        if num != 0:\n",
    "            self.qub = num**3\n",
    "        else:\n",
    "            ZeroCubeError\n",
    "\n",
    "try:\n",
    "    num = Cube(input('Number>'))\n",
    "    num = Cube(input('Number>'))\n",
    "except ZeroDivisionError:\n",
    "    print(ZeroDivisionError.__doc__)\n",
    "except:\n",
    "    print('Something went wrong!')\n",
    "else:\n",
    "    print('Cube = ' + str(num.qub))\n",
    "finally:\n",
    "    print('Execution Complete!')\n"
   ]
  },
  {
   "cell_type": "code",
   "execution_count": null,
   "metadata": {},
   "outputs": [],
   "source": []
  }
 ],
 "metadata": {
  "kernelspec": {
   "display_name": "Python 3",
   "language": "python",
   "name": "python3"
  },
  "language_info": {
   "codemirror_mode": {
    "name": "ipython",
    "version": 3
   },
   "file_extension": ".py",
   "mimetype": "text/x-python",
   "name": "python",
   "nbconvert_exporter": "python",
   "pygments_lexer": "ipython3",
   "version": "3.12.5"
  }
 },
 "nbformat": 4,
 "nbformat_minor": 2
}
